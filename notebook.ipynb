{
 "cells": [
  {
   "cell_type": "markdown",
   "metadata": {},
   "source": [
    "### 预处理：获取文件中的所有飞机名称\n",
    "\n",
    "首先pandas读文件"
   ]
  },
  {
   "cell_type": "code",
   "execution_count": 1,
   "metadata": {},
   "outputs": [],
   "source": [
    "import pandas as pd\n",
    "\n",
    "original_file = pd.read_csv('D:\\\\Study\\\\Computing\\\\发射机与目标机判定\\\\data\\\\51st Bisons vs CNF Rd 1__1HZ.csv') # 读取csv文件\n",
    "Ids = original_file['Id'].values # 读取Id列\n",
    "names = [] # 创建空列表用于储存飞机名称"
   ]
  },
  {
   "cell_type": "code",
   "execution_count": 5,
   "metadata": {},
   "outputs": [
    {
     "data": {
      "text/plain": [
       "'Air+FixedWing'"
      ]
     },
     "execution_count": 5,
     "metadata": {},
     "output_type": "execute_result"
    }
   ],
   "source": [
    "original_file.loc[original_file['Id'] == '102']['Type'].values[0]"
   ]
  },
  {
   "cell_type": "markdown",
   "metadata": {},
   "source": [
    "获取文件中的所有飞机名称"
   ]
  },
  {
   "cell_type": "code",
   "execution_count": 6,
   "metadata": {},
   "outputs": [
    {
     "name": "stdout",
     "output_type": "stream",
     "text": [
      "['102', '202', '106', '10A', '109', '107', '108', '10C', '105', '10B', '104', '10E', '10F', '110']\n"
     ]
    }
   ],
   "source": [
    "for Id in Ids:\n",
    "    found = False\n",
    "    type_name = original_file.loc[original_file['Id'] == Id]['Type'].values[0] # 读取Type列并获取第一个值\n",
    "    if type_name.find('Air') == -1:\n",
    "        # 查找所有带有“Air”的目标——即飞机，储存在names中\n",
    "        # 去除导弹\n",
    "        continue\n",
    "    for name in names:\n",
    "        # 去除重复的目标\n",
    "        if Id == name:\n",
    "            found = True\n",
    "            break\n",
    "    if not found:\n",
    "        names.append(Id)\n",
    "\n",
    "\n",
    "print(names)"
   ]
  },
  {
   "cell_type": "markdown",
   "metadata": {},
   "source": [
    "## 现在开始处理问题\n",
    "\n",
    "首先还是读文件"
   ]
  },
  {
   "cell_type": "code",
   "execution_count": 7,
   "metadata": {},
   "outputs": [],
   "source": [
    "original_filename = '51st vs 36th R1__1HZ.csv'\n",
    "\n",
    "ttmp = 'D:\\\\Study\\\\Computing\\\\发射机与目标机判定\\\\data\\\\' + original_filename # 读取csv文件\n",
    "\n",
    "original_file = pd.read_csv(ttmp)\n",
    "Ids = original_file['Id'].values\n",
    "names = []"
   ]
  },
  {
   "cell_type": "markdown",
   "metadata": {},
   "source": [
    "获取空战发生的时间区间"
   ]
  },
  {
   "cell_type": "code",
   "execution_count": 8,
   "metadata": {},
   "outputs": [],
   "source": [
    "time_min = original_file['Unix time'].min() # 获取最小时间\n",
    "time_max = original_file['Unix time'].max() # 获取最大时间"
   ]
  },
  {
   "cell_type": "code",
   "execution_count": 9,
   "metadata": {},
   "outputs": [],
   "source": [
    "time_file_name = original_filename + '_time' + '.txt' # 时间文件名\n",
    "\n",
    "df = pd.DataFrame(index=range(time_max - time_min + 30)) # 根据指定时间区间创建空DataFrame"
   ]
  },
  {
   "cell_type": "markdown",
   "metadata": {},
   "source": [
    "和之前一样获取文件中的所有飞机名称"
   ]
  },
  {
   "cell_type": "code",
   "execution_count": 10,
   "metadata": {},
   "outputs": [],
   "source": [
    "for Id in Ids:\n",
    "    found = False\n",
    "    type_name = original_file.loc[original_file['Id'] == Id]['Type'].values[0]\n",
    "    if type_name.find('Air') == -1:\n",
    "        continue\n",
    "    for name in names:\n",
    "        if Id == name:\n",
    "            found = True\n",
    "            break\n",
    "    if not found:\n",
    "        names.append(Id)"
   ]
  },
  {
   "cell_type": "markdown",
   "metadata": {},
   "source": [
    "现在开始遍历names，依次分析各架飞机，首先对一架飞机而言，例如name = '102'"
   ]
  },
  {
   "cell_type": "code",
   "execution_count": 11,
   "metadata": {},
   "outputs": [],
   "source": [
    "import numpy as np\n",
    "\n",
    "name = '102' # 选择目标\n",
    "\n",
    "acts = [] # 用于储存动作序列\n",
    "file = original_file[original_file.Id == name] # 获取Id为name的目标的所有数据，是原数据集的子集\n",
    "\n",
    "start_time = file.iloc[0, 1] - time_min # 该飞机开始被记录的时间\n",
    "\n",
    "# 获取飞机状态\n",
    "roll = file['Roll'].values\n",
    "pitch = file['Pitch'].values\n",
    "yaw = file['Yaw'].values\n",
    "ground_distance = file['Altitude'].values"
   ]
  },
  {
   "cell_type": "markdown",
   "metadata": {},
   "source": [
    "首先需要定义各种简单动作"
   ]
  },
  {
   "cell_type": "code",
   "execution_count": 12,
   "metadata": {},
   "outputs": [],
   "source": [
    "from sklearn.linear_model import LinearRegression\n",
    "\n",
    "\n",
    "def calc_b(y): \n",
    "    # R^2检验，返回值包括拟合斜率和线性拟合度，线性拟合度大于0.95则认为是线性关系，此时滑动窗口的长度不需要再减小\n",
    "    reg = LinearRegression()\n",
    "    len_ = len(y)\n",
    "    y = y.reshape(-1, 1)\n",
    "    x = [i for i in range(1, len_ + 1)]\n",
    "    x = np.array(x)\n",
    "    x = x.reshape(-1, 1)\n",
    "    reg.fit(x, y)\n",
    "    return reg.coef_, reg.score(x, y)\n",
    "\n",
    "\n",
    "def decide_basic_action(yaw, pitch, roll, ground_dist):\n",
    "    # 根据飞机状态判断基本动作\n",
    "\n",
    "    # 计算各飞行参数的拟合斜率和线性拟合度\n",
    "    yaw_b, yaw_r2 = calc_b(yaw)\n",
    "    pitch_b, pitch_r2 = calc_b(pitch)\n",
    "    roll_b, roll_r2 = calc_b(roll)\n",
    "    ground_dist_b, ground_dist_r2 = calc_b(ground_dist)\n",
    "\n",
    "    threshold = 0.95 # 线性拟合度阈值\n",
    "\n",
    "    if yaw_r2 < threshold or pitch_r2 < threshold or roll_r2 < threshold or ground_dist_r2 < threshold:\n",
    "        # 线性拟合度小于阈值，认为不是线性关系，返回0，需要减小滑动窗口长度\n",
    "        return 0\n",
    "\n",
    "    ans = [] # 储存基本动作\n",
    "\n",
    "    if (yaw_b > -1) and (yaw_b < 1) and (ground_dist_b > -2) and (ground_dist_b < 2):\n",
    "        ans.append(1) # 平飞：1\n",
    "    if ground_dist_b > 2:\n",
    "        ans.append(2) # 上升：2\n",
    "    if ground_dist_b < -2:\n",
    "        ans.append(3) # 下降：3\n",
    "    if yaw_b > 1:\n",
    "        ans.append(4) # 转弯：4\n",
    "    if roll_b > 10:\n",
    "        ans.append(5) # 翻滚：5\n",
    "    if len(ans) == 0:\n",
    "        return 0 # 无法检测，需要进一步缩小滑动窗口长度\n",
    "    else:\n",
    "        return ans"
   ]
  },
  {
   "cell_type": "markdown",
   "metadata": {},
   "source": [
    "下面开始使用滑动窗口"
   ]
  },
  {
   "cell_type": "code",
   "execution_count": 13,
   "metadata": {},
   "outputs": [],
   "source": [
    "end = len(roll) # 结束位置\n",
    "cur = 0 # 当前位置\n",
    "default_sliding_window_len = 10 # 默认滑动窗口长度"
   ]
  },
  {
   "cell_type": "code",
   "execution_count": 37,
   "metadata": {},
   "outputs": [],
   "source": [
    "acts = [] # 储存基本动作\n",
    "while cur < end: # 遍历时间区间\n",
    "    begin = cur # 更新当前位置\n",
    "    sliding_window_len = default_sliding_window_len # 初始设置为默认滑动窗口长度\n",
    "\n",
    "    act = decide_basic_action(\n",
    "        yaw = yaw[begin : begin+sliding_window_len], \n",
    "        pitch = pitch[begin : begin+sliding_window_len],\n",
    "        roll = roll[begin : begin+sliding_window_len],\n",
    "        ground_dist = ground_distance[begin : begin+sliding_window_len]\n",
    "        )\n",
    "    # 基于当前滑动窗口长度判断基本动作\n",
    "        \n",
    "    while act == 0: \n",
    "        # 无法检测，需要进一步缩小滑动窗口长度直至可以检测\n",
    "        sliding_window_len -= 1 # 缩小滑动窗口长度\n",
    "        act = decide_basic_action(\n",
    "            yaw=yaw[begin:begin + sliding_window_len],\n",
    "            pitch=pitch[begin:begin + sliding_window_len],\n",
    "            roll=roll[begin:begin + sliding_window_len],\n",
    "            ground_dist=ground_distance[begin:begin + sliding_window_len]\n",
    "            )\n",
    "        # 基于当前滑动窗口长度再次判断基本动作\n",
    "            \n",
    "    for i in range(sliding_window_len):\n",
    "        tmp = ''\n",
    "        for a in act:\n",
    "            tmp += str(a) \n",
    "            # a = 1, 2, 3, 4, 5分别表示不同的基本动作\n",
    "            # 例如tmp = '123'表示当前滑动窗口内的基本动作为平飞、上升、下降\n",
    "\n",
    "        acts.append(tmp) # 记录基本动作序列\n",
    "        # 例如acts = ‘123123123’表示此次滑动窗口长度为3，窗口内的3个时刻基本动作序列依次为：\n",
    "        # 1：平飞、上升、下降，2：平飞、上升、下降，3：平飞、上升、下降\n",
    "\n",
    "    cur += sliding_window_len # 更新当前位置\n",
    "\n",
    "    df = df.astype('object') # 用于储存字符串格式的基本动作序列\n",
    "    \n",
    "    df[name] = '0' # 初始化该列，统一设置成未起飞状态：0\n",
    "    df.loc[start_time: start_time+len(acts), name] = acts\n",
    "    df.loc[start_time+len(acts):, name] = -1\n",
    "    # 将acts嵌入df的一列，其中飞机起飞前设置为0，后续为基本动作序列，最后是占位的-1"
   ]
  },
  {
   "cell_type": "markdown",
   "metadata": {},
   "source": [
    "现在使用循环处理所有飞机对象"
   ]
  },
  {
   "cell_type": "code",
   "execution_count": null,
   "metadata": {},
   "outputs": [],
   "source": [
    "for name in names:\n",
    "    acts = []\n",
    "    file = original_file[original_file.Id == name]\n",
    "    start_time = file.iloc[0, 1] - time_min\n",
    "    roll = file['Roll'].values\n",
    "    roll = np.array(roll)\n",
    "    pitch = file['Pitch'].values\n",
    "    pitch = np.array(pitch)\n",
    "    yaw = file['Yaw'].values\n",
    "    yaw = np.array(yaw)\n",
    "    ground_distance = file['Altitude'].values\n",
    "    ground_distance = np.array(ground_distance)\n",
    "\n",
    "    start = 0\n",
    "    end = len(roll)\n",
    "    cur = 0\n",
    "    default_sliding_window_len = 10\n",
    "\n",
    "    while cur < end:\n",
    "        begin = cur\n",
    "        sliding_window_len = default_sliding_window_len\n",
    "        act = decide_basic_action(\n",
    "            yaw=yaw[begin:begin + sliding_window_len], \n",
    "            pitch=pitch[begin:begin + sliding_window_len],\n",
    "            roll=roll[begin:begin + sliding_window_len],\n",
    "            ground_dist=ground_distance[begin:begin + sliding_window_len]\n",
    "            )\n",
    "        \n",
    "        while act == 0:\n",
    "            sliding_window_len -= 1\n",
    "            act = decide_basic_action(\n",
    "                yaw=yaw[begin:begin + sliding_window_len],\n",
    "                pitch=pitch[begin:begin + sliding_window_len],\n",
    "                roll=roll[begin:begin + sliding_window_len],\n",
    "                ground_dist=ground_distance[begin:begin + sliding_window_len]\n",
    "                )\n",
    "            \n",
    "        for i in range(sliding_window_len):\n",
    "            tmp = ''\n",
    "            for a in act:\n",
    "                tmp += str(a)\n",
    "            acts.append(tmp)\n",
    "        cur += sliding_window_len\n",
    "\n",
    "        df = df.astype('object')\n",
    "        df[name] = '0'\n",
    "        df.loc[start_time: start_time+len(acts)-1, name] = acts\n",
    "        df.loc[start_time+len(acts):, name] = -1"
   ]
  },
  {
   "cell_type": "code",
   "execution_count": 40,
   "metadata": {},
   "outputs": [
    {
     "name": "stdout",
     "output_type": "stream",
     "text": [
      "     102 202 104 105 107 106 10A 109 10D 108 10E 10C 10B 10F\n",
      "0      3   3   0   0   0   0   0   0   0   0   0   0   0   0\n",
      "1      3   3   0   0   0   0   0   0   0   0   0   0   0   0\n",
      "2      3   3   0   0   0   0   0   0   0   0   0   0   0   0\n",
      "3      3   3   0   0   0   0   0   0   0   0   0   0   0   0\n",
      "4      1   1   0   0   0   0   0   0   0   0   0   0   0   0\n",
      "...   ..  ..  ..  ..  ..  ..  ..  ..  ..  ..  ..  ..  ..  ..\n",
      "5174  -1  -1  -1  -1  -1  -1  -1  -1  -1  -1  -1  -1  -1  -1\n",
      "5175  -1  -1  -1  -1  -1  -1  -1  -1  -1  -1  -1  -1  -1  -1\n",
      "5176  -1  -1  -1  -1  -1  -1  -1  -1  -1  -1  -1  -1  -1  -1\n",
      "5177  -1  -1  -1  -1  -1  -1  -1  -1  -1  -1  -1  -1  -1  -1\n",
      "5178  -1  -1  -1  -1  -1  -1  -1  -1  -1  -1  -1  -1  -1  -1\n",
      "\n",
      "[5179 rows x 14 columns]\n"
     ]
    }
   ],
   "source": [
    "print(df)\n",
    "tttmp = 'ques2_' + original_filename\n",
    "df.to_csv(tttmp)"
   ]
  },
  {
   "cell_type": "code",
   "execution_count": null,
   "metadata": {},
   "outputs": [],
   "source": []
  }
 ],
 "metadata": {
  "kernelspec": {
   "display_name": "base",
   "language": "python",
   "name": "python3"
  },
  "language_info": {
   "codemirror_mode": {
    "name": "ipython",
    "version": 3
   },
   "file_extension": ".py",
   "mimetype": "text/x-python",
   "name": "python",
   "nbconvert_exporter": "python",
   "pygments_lexer": "ipython3",
   "version": "3.11.5"
  }
 },
 "nbformat": 4,
 "nbformat_minor": 2
}
