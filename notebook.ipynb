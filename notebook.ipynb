{
 "cells": [
  {
   "cell_type": "markdown",
   "metadata": {},
   "source": [
    "### 预处理：获取文件中的所有飞机名称\n",
    "\n",
    "首先pandas读文件"
   ]
  },
  {
   "cell_type": "code",
   "execution_count": 16,
   "metadata": {},
   "outputs": [],
   "source": [
    "import pandas as pd\n",
    "\n",
    "original_file = pd.read_csv('D:\\\\Study\\\\Computing\\\\发射机与目标机判定\\\\data\\\\51st Bisons vs CNF Rd 1__1HZ.csv') # 读取csv文件\n",
    "Ids = original_file['Id'].values # 读取Id列\n",
    "names = [] # 创建空列表用于储存飞机名称"
   ]
  },
  {
   "cell_type": "code",
   "execution_count": 17,
   "metadata": {},
   "outputs": [
    {
     "data": {
      "text/plain": [
       "'Air+FixedWing'"
      ]
     },
     "execution_count": 17,
     "metadata": {},
     "output_type": "execute_result"
    }
   ],
   "source": [
    "original_file.loc[original_file['Id'] == '102']['Type'].values[0]"
   ]
  },
  {
   "cell_type": "markdown",
   "metadata": {},
   "source": [
    "获取文件中的所有飞机名称"
   ]
  },
  {
   "cell_type": "code",
   "execution_count": 18,
   "metadata": {},
   "outputs": [
    {
     "name": "stdout",
     "output_type": "stream",
     "text": [
      "['102', '202', '106', '10A', '109', '107', '108', '10C', '105', '10B', '104', '10E', '10F', '110']\n"
     ]
    }
   ],
   "source": [
    "for Id in Ids:\n",
    "    found = False\n",
    "    type_name = original_file.loc[original_file['Id'] == Id]['Type'].values[0] # 读取Type列并获取第一个值\n",
    "    if type_name.find('Air') == -1:\n",
    "        # 查找所有带有“Air”的目标——即飞机，储存在names中\n",
    "        # 去除导弹\n",
    "        continue\n",
    "    for name in names:\n",
    "        # 去除重复的目标\n",
    "        if Id == name:\n",
    "            found = True\n",
    "            break\n",
    "    if not found:\n",
    "        names.append(Id)\n",
    "\n",
    "\n",
    "print(names)"
   ]
  },
  {
   "cell_type": "markdown",
   "metadata": {},
   "source": [
    "## 现在开始处理问题\n",
    "\n",
    "首先还是读文件"
   ]
  },
  {
   "cell_type": "code",
   "execution_count": 19,
   "metadata": {},
   "outputs": [],
   "source": [
    "original_filename = '51st vs 36th R1__1HZ.csv'\n",
    "\n",
    "ttmp = 'D:\\\\Study\\\\Computing\\\\发射机与目标机判定\\\\data\\\\' + original_filename # 读取csv文件\n",
    "\n",
    "original_file = pd.read_csv(ttmp)\n",
    "Ids = original_file['Id'].values\n",
    "names = []"
   ]
  },
  {
   "cell_type": "markdown",
   "metadata": {},
   "source": [
    "获取空战发生的时间区间"
   ]
  },
  {
   "cell_type": "code",
   "execution_count": 20,
   "metadata": {},
   "outputs": [],
   "source": [
    "time_min = original_file['Unix time'].min() # 获取最小时间\n",
    "time_max = original_file['Unix time'].max() # 获取最大时间"
   ]
  },
  {
   "cell_type": "code",
   "execution_count": 21,
   "metadata": {},
   "outputs": [],
   "source": [
    "time_file_name = original_filename + '_time' + '.txt' # 时间文件名\n",
    "\n",
    "df = pd.DataFrame(index=range(time_max - time_min + 30)) # 根据指定时间区间创建空DataFrame"
   ]
  },
  {
   "cell_type": "markdown",
   "metadata": {},
   "source": [
    "和之前一样获取文件中的所有飞机名称"
   ]
  },
  {
   "cell_type": "code",
   "execution_count": 22,
   "metadata": {},
   "outputs": [],
   "source": [
    "for Id in Ids:\n",
    "    found = False\n",
    "    type_name = original_file.loc[original_file['Id'] == Id]['Type'].values[0]\n",
    "    if type_name.find('Air') == -1:\n",
    "        continue\n",
    "    for name in names:\n",
    "        if Id == name:\n",
    "            found = True\n",
    "            break\n",
    "    if not found:\n",
    "        names.append(Id)"
   ]
  },
  {
   "cell_type": "markdown",
   "metadata": {},
   "source": [
    "现在开始遍历names，依次分析各架飞机，首先对一架飞机而言，例如name = '102'"
   ]
  },
  {
   "cell_type": "code",
   "execution_count": 23,
   "metadata": {},
   "outputs": [],
   "source": [
    "import numpy as np\n",
    "\n",
    "name = '102' # 选择目标\n",
    "\n",
    "acts = [] # 用于储存动作序列\n",
    "file = original_file[original_file.Id == name] # 获取Id为name的目标的所有数据，是原数据集的子集\n",
    "\n",
    "start_time = file.iloc[0, 1] - time_min # 该飞机开始被记录的时间\n",
    "\n",
    "# 获取飞机状态\n",
    "roll = file['Roll'].values\n",
    "pitch = file['Pitch'].values\n",
    "yaw = file['Yaw'].values\n",
    "ground_distance = file['Altitude'].values # 此处使用的是海拔高度而不是距地面距离"
   ]
  },
  {
   "cell_type": "markdown",
   "metadata": {},
   "source": [
    "首先需要定义各种简单动作"
   ]
  },
  {
   "cell_type": "code",
   "execution_count": 24,
   "metadata": {},
   "outputs": [],
   "source": [
    "from sklearn.linear_model import LinearRegression\n",
    "\n",
    "\n",
    "def calc_b(y): \n",
    "    # R^2检验，返回值包括拟合斜率和线性拟合度，线性拟合度大于0.95则认为是线性关系，此时滑动窗口的长度不需要再减小\n",
    "    reg = LinearRegression()\n",
    "    len_ = len(y)\n",
    "    y = y.reshape(-1, 1)\n",
    "    x = [i for i in range(1, len_ + 1)]\n",
    "    x = np.array(x)\n",
    "    x = x.reshape(-1, 1)\n",
    "    reg.fit(x, y)\n",
    "    return reg.coef_, reg.score(x, y)\n",
    "\n",
    "\n",
    "def decide_basic_action(yaw, pitch, roll, ground_dist):\n",
    "    # 根据飞机状态判断基本动作\n",
    "\n",
    "    # 计算各飞行参数的拟合斜率和线性拟合度\n",
    "    yaw_b, yaw_r2 = calc_b(yaw)\n",
    "    pitch_b, pitch_r2 = calc_b(pitch)\n",
    "    roll_b, roll_r2 = calc_b(roll)\n",
    "    ground_dist_b, ground_dist_r2 = calc_b(ground_dist)\n",
    "\n",
    "    threshold = 0.95 # 线性拟合度阈值\n",
    "\n",
    "    if yaw_r2 < threshold or pitch_r2 < threshold or roll_r2 < threshold or ground_dist_r2 < threshold:\n",
    "        # 线性拟合度小于阈值，认为不是线性关系，返回0，需要减小滑动窗口长度\n",
    "        return 0\n",
    "\n",
    "    ans = [] # 储存基本动作\n",
    "\n",
    "    if (yaw_b > -1) and (yaw_b < 1) and (ground_dist_b > -2) and (ground_dist_b < 2):\n",
    "        ans.append(1) # 平飞：1\n",
    "    if ground_dist_b > 2:\n",
    "        ans.append(2) # 上升：2\n",
    "    if ground_dist_b < -2:\n",
    "        ans.append(3) # 下降：3\n",
    "    if yaw_b > 1:\n",
    "        ans.append(4) # 转弯：4\n",
    "    if roll_b > 10:\n",
    "        ans.append(5) # 翻滚：5\n",
    "    if len(ans) == 0:\n",
    "        return 0 # 无法检测，需要进一步缩小滑动窗口长度\n",
    "    else:\n",
    "        return ans"
   ]
  },
  {
   "cell_type": "markdown",
   "metadata": {},
   "source": [
    "下面开始使用滑动窗口"
   ]
  },
  {
   "cell_type": "code",
   "execution_count": 25,
   "metadata": {},
   "outputs": [],
   "source": [
    "end = len(roll) # 结束位置\n",
    "cur = 0 # 当前位置\n",
    "default_sliding_window_len = 10 # 默认滑动窗口长度"
   ]
  },
  {
   "cell_type": "code",
   "execution_count": null,
   "metadata": {},
   "outputs": [],
   "source": [
    "acts = [] # 储存基本动作\n",
    "while cur < end: # 遍历时间区间\n",
    "    begin = cur # 更新当前位置\n",
    "    sliding_window_len = default_sliding_window_len # 初始设置为默认滑动窗口长度\n",
    "\n",
    "    act = decide_basic_action(\n",
    "        yaw = yaw[begin : begin+sliding_window_len], \n",
    "        pitch = pitch[begin : begin+sliding_window_len],\n",
    "        roll = roll[begin : begin+sliding_window_len],\n",
    "        ground_dist = ground_distance[begin : begin+sliding_window_len]\n",
    "        )\n",
    "    # 基于当前滑动窗口长度判断基本动作\n",
    "        \n",
    "    while act == 0: \n",
    "        # 无法检测，需要进一步缩小滑动窗口长度直至可以检测\n",
    "        sliding_window_len -= 1 # 缩小滑动窗口长度\n",
    "        act = decide_basic_action(\n",
    "            yaw=yaw[begin:begin + sliding_window_len],\n",
    "            pitch=pitch[begin:begin + sliding_window_len],\n",
    "            roll=roll[begin:begin + sliding_window_len],\n",
    "            ground_dist=ground_distance[begin:begin + sliding_window_len]\n",
    "            )\n",
    "        # 基于当前滑动窗口长度再次判断基本动作\n",
    "            \n",
    "    for i in range(sliding_window_len):\n",
    "        tmp = ''\n",
    "        for a in act: # [1,2,3] -> '123'\n",
    "            tmp += str(a) \n",
    "            # a = 1, 2, 3, 4, 5分别表示不同的基本动作\n",
    "            # 例如tmp = '123'表示当前滑动窗口内的基本动作为平飞、上升、下降\n",
    "\n",
    "        acts.append(tmp) # 记录基本动作序列，注意这是一个列表，列表中的每个元素都是一个字符串\n",
    "        # 例如tmp = ['123' '123' '123']表示此次滑动窗口长度为3，窗口内的3个时刻基本动作序列依次为：\n",
    "        # 1：平飞、上升、下降，2：平飞、上升、下降，3：平飞、上升、下降\n",
    "\n",
    "    cur += sliding_window_len # 更新当前位置\n",
    "\n",
    "    df = df.astype('object') # 用于储存字符串格式的基本动作序列\n",
    "    \n",
    "    df[name] = '0' # 初始化该列，统一设置成未起飞状态：0\n",
    "    df.loc[start_time: start_time+len(acts)-1, name] = acts\n",
    "    df.loc[start_time+len(acts):, name] = -1\n",
    "    # 将acts嵌入df的一列，其中飞机起飞前设置为0，后续为基本动作序列，最后是占位的-1"
   ]
  },
  {
   "cell_type": "markdown",
   "metadata": {},
   "source": [
    "现在使用循环处理所有飞机对象"
   ]
  },
  {
   "cell_type": "code",
   "execution_count": null,
   "metadata": {},
   "outputs": [],
   "source": [
    "for name in names:\n",
    "    acts = []\n",
    "    file = original_file[original_file.Id == name]\n",
    "    start_time = file.iloc[0, 1] - time_min\n",
    "    roll = file['Roll'].values\n",
    "    roll = np.array(roll)\n",
    "    pitch = file['Pitch'].values\n",
    "    pitch = np.array(pitch)\n",
    "    yaw = file['Yaw'].values\n",
    "    yaw = np.array(yaw)\n",
    "    ground_distance = file['Altitude'].values\n",
    "    ground_distance = np.array(ground_distance)\n",
    "\n",
    "    start = 0\n",
    "    end = len(roll)\n",
    "    cur = 0\n",
    "    default_sliding_window_len = 10\n",
    "\n",
    "    while cur < end:\n",
    "        begin = cur\n",
    "        sliding_window_len = default_sliding_window_len\n",
    "        act = decide_basic_action(\n",
    "            yaw=yaw[begin:begin + sliding_window_len], \n",
    "            pitch=pitch[begin:begin + sliding_window_len],\n",
    "            roll=roll[begin:begin + sliding_window_len],\n",
    "            ground_dist=ground_distance[begin:begin + sliding_window_len]\n",
    "            )\n",
    "        \n",
    "        while act == 0:\n",
    "            sliding_window_len -= 1\n",
    "            act = decide_basic_action(\n",
    "                yaw=yaw[begin:begin + sliding_window_len],\n",
    "                pitch=pitch[begin:begin + sliding_window_len],\n",
    "                roll=roll[begin:begin + sliding_window_len],\n",
    "                ground_dist=ground_distance[begin:begin + sliding_window_len]\n",
    "                )\n",
    "            \n",
    "        for i in range(sliding_window_len):\n",
    "            tmp = ''\n",
    "            for a in act:\n",
    "                tmp += str(a)\n",
    "            acts.append(tmp)\n",
    "        cur += sliding_window_len\n",
    "\n",
    "        df = df.astype('object')\n",
    "        df[name] = '0'\n",
    "        df.loc[start_time: start_time+len(acts)-1, name] = acts #! -1\n",
    "        df.loc[start_time+len(acts):, name] = -1"
   ]
  },
  {
   "cell_type": "code",
   "execution_count": 30,
   "metadata": {},
   "outputs": [
    {
     "name": "stdout",
     "output_type": "stream",
     "text": [
      "     102 202 104 105 107 106 10A 109 10D 108 10E 10C 10B 10F\n",
      "0      3   3   0   0   0   0   0   0   0   0   0   0   0   0\n",
      "1      3   3   0   0   0   0   0   0   0   0   0   0   0   0\n",
      "2      3   3   0   0   0   0   0   0   0   0   0   0   0   0\n",
      "3      3   3   0   0   0   0   0   0   0   0   0   0   0   0\n",
      "4      1   1   0   0   0   0   0   0   0   0   0   0   0   0\n",
      "...   ..  ..  ..  ..  ..  ..  ..  ..  ..  ..  ..  ..  ..  ..\n",
      "5174  -1  -1  -1  -1  -1  -1  -1  -1  -1  -1  -1  -1  -1  -1\n",
      "5175  -1  -1  -1  -1  -1  -1  -1  -1  -1  -1  -1  -1  -1  -1\n",
      "5176  -1  -1  -1  -1  -1  -1  -1  -1  -1  -1  -1  -1  -1  -1\n",
      "5177  -1  -1  -1  -1  -1  -1  -1  -1  -1  -1  -1  -1  -1  -1\n",
      "5178  -1  -1  -1  -1  -1  -1  -1  -1  -1  -1  -1  -1  -1  -1\n",
      "\n",
      "[5179 rows x 14 columns]\n"
     ]
    }
   ],
   "source": [
    "print(df)\n",
    "tttmp = 'ques2_' + original_filename\n",
    "df.to_csv(tttmp) # 将基本动作序列输出为csv文件"
   ]
  },
  {
   "cell_type": "markdown",
   "metadata": {},
   "source": [
    "现在开始考虑由基本动作组成的复杂机动动作"
   ]
  },
  {
   "cell_type": "code",
   "execution_count": 31,
   "metadata": {},
   "outputs": [],
   "source": [
    "def calc_yaw(yaw):\n",
    "    len_ = len(yaw)\n",
    "    sum = 0\n",
    "    for i in range(1, len_):\n",
    "        if np.abs(yaw[i] - yaw[i - 1]) > 300:\n",
    "            sum += 5\n",
    "        else:\n",
    "            sum += np.abs(yaw[i] - yaw[i - 1])\n",
    "            \n",
    "    return sum"
   ]
  },
  {
   "cell_type": "code",
   "execution_count": 32,
   "metadata": {},
   "outputs": [],
   "source": [
    "def decide_action(yaw, pitch, roll, altitude, actions):\n",
    "    len_ = len(yaw)\n",
    "    acts = [0, 0, 0, 0, 0] # 储存基本动作，分别为：平飞、上升、下降、转弯、翻滚，出现为1，否则为0\n",
    "    \n",
    "    # 统计区间内基本动作\n",
    "    for a in actions:\n",
    "        while a >= 1:\n",
    "            acts[int(a % 10) - 1] += 1\n",
    "            a = int(a / 10)\n",
    "\n",
    "    # 判定定常盘旋\n",
    "    threshold = 0.5\n",
    "    height_threshold = 20\n",
    "    roll_threshold = 10\n",
    "    yaw_threshold = 10\n",
    "\n",
    "    if acts[3] > 0 and calc_yaw(yaw=yaw) > 360 * threshold and np.max(altitude) - np.min(altitude) < height_threshold and np.min(np.abs(roll)) > roll_threshold:\n",
    "        return 1\n",
    "    \n",
    "    # 判定急盘降\n",
    "    altitude_b, _ = calc_b(altitude)\n",
    "    if acts[3] > 0 and acts[2] > 0 and calc_yaw(yaw=yaw) > 360 * threshold and np.max(altitude) - np.min(altitude) > height_threshold and altitude_b < 0:\n",
    "        return 2\n",
    "    \n",
    "    # 判定急盘升\n",
    "    if acts[3] > 0 and acts[1] > 0 and calc_yaw(yaw=yaw) > 360 * threshold and np.max(altitude) - np.min(altitude) > height_threshold and altitude_b > 0:\n",
    "        return 3\n",
    "    \n",
    "    # 判定俯冲\n",
    "    if acts[2] > 0 and calc_yaw(yaw) < yaw_threshold and np.max(altitude) - np.min(altitude) > height_threshold and altitude_b < 0:\n",
    "        return 4\n",
    "    \n",
    "    # 判定急拉起\n",
    "    if acts[1] > 0 and calc_yaw(yaw) < yaw_threshold and np.max(altitude) - np.min(altitude) > height_threshold and altitude_b > 0:\n",
    "        return 5\n",
    "    \n",
    "    # 判定半斤斗\n",
    "    if acts[1] + acts[2] > 0 and np.max(pitch) - np.min(pitch) > 180 * threshold and np.max(roll) - np.min(roll) < roll_threshold:\n",
    "        return 6\n",
    "    \n",
    "    # 判定半滚倒转\n",
    "    if acts[1] + acts[2] > 0 and np.max(pitch) - np.min(pitch) > 180 * threshold and np.max(roll) - np.min(roll) > 180 * threshold:\n",
    "        return 7\n",
    "    \n",
    "    # 判定滚筒\n",
    "    if acts[4] > 0 and np.max(altitude) - np.min(altitude) < height_threshold and calc_yaw(yaw) < yaw_threshold and np.max(roll) - np.min(roll) > 180 *threshold:\n",
    "        return 8\n",
    "    \n",
    "    # 判定战术转弯\n",
    "    yaw_slope_threshold = 5\n",
    "    yaw_b, _ = calc_b(yaw)\n",
    "    if acts[3] > 0 and yaw_b > yaw_slope_threshold and calc_yaw(yaw) < 90 *threshold:\n",
    "        return 9\n",
    "    \n",
    "    # 判定规避急转弯\n",
    "    if acts[3] > 0 and yaw_b > yaw_slope_threshold and calc_yaw(yaw) > 90 *threshold:\n",
    "        return 10\n",
    "    \n",
    "    # 判定低速 yoyo\n",
    "    if acts[1] + acts[4] > 0 and altitude_b > 0 and np.max(roll) - np.min(roll) > 180 *threshold:\n",
    "        return 12\n",
    "    \n",
    "    # 判定高速 yoyo\n",
    "    if acts[2] + acts[4] > 0 and altitude_b < 0 and np.max(roll) - np.min(roll) > 180 *threshold:\n",
    "        return 11\n",
    "    \n",
    "    return np.argmax(acts) + 13"
   ]
  },
  {
   "cell_type": "markdown",
   "metadata": {},
   "source": [
    "| 平飞 | 上升 | 下降 | 转弯 | 翻滚 | 定常盘旋 | 急盘降 | 急盘升 | 俯冲 | 急拉起 | 半斤斗 | 半滚倒转 | 滚筒 | 战术转弯 | 规避急转弯 | 高速 yoyo | 低速 yoyo |\n",
    "| --- | --- | --- | --- | --- | --- | --- | --- | --- | --- | --- | --- | --- | --- | --- | --- | --- |\n",
    "| 13 | 14 | 15 | 16 | 17 | 1 | 2 | 3 | 4 | 5 | 6 | 7 | 8 | 9 | 10 | 11 | 12 |"
   ]
  },
  {
   "cell_type": "markdown",
   "metadata": {},
   "source": [
    "读入文件以及预处理"
   ]
  },
  {
   "cell_type": "code",
   "execution_count": 33,
   "metadata": {},
   "outputs": [],
   "source": [
    "name = '51st vs 36th R1__1HZ.csv'\n",
    "file_name = 'D:\\\\Study\\\\Computing\\\\发射机与目标机判定\\\\ques2_' + name\n",
    "origin_name = 'D:\\\\Study\\\\Computing\\\\发射机与目标机判定\\\\data\\\\' + name\n",
    "file = pd.read_csv(file_name)\n",
    "origin = pd.read_csv(origin_name)\n",
    "\n",
    "YAW = origin['Yaw'].values\n",
    "ROLL = origin['Roll'].values\n",
    "PITCH = origin['Pitch'].values\n",
    "ALTITUDE = origin['Altitude'].values\n",
    "\n",
    "time_min = origin['Unix time'].min()\n",
    "time_max = origin['Unix time'].max()\n",
    "df = pd.DataFrame(index=range(time_max - time_min + 30))\n",
    "df = df.astype('object')"
   ]
  },
  {
   "cell_type": "markdown",
   "metadata": {},
   "source": [
    "基本动作序列进行划分"
   ]
  },
  {
   "cell_type": "code",
   "execution_count": 34,
   "metadata": {},
   "outputs": [],
   "source": [
    "def decompose(a): # 将一个整数分解为各个位上的数字：123 -> [3, 2, 1]\n",
    "    ans = []\n",
    "    while a >= 1:\n",
    "        ans.append(int(a % 10))\n",
    "        a = int(a / 10)\n",
    "    return ans\n",
    "\n",
    "def calc_b(y): \n",
    "    # R^2检验，返回值包括拟合斜率和线性拟合度，线性拟合度大于0.95则认为是线性关系，此时滑动窗口的长度不需要再减小\n",
    "    reg = LinearRegression()\n",
    "    len_ = len(y)\n",
    "    y = y.reshape(-1, 1)\n",
    "    x = [i for i in range(1, len_ + 1)]\n",
    "    x = np.array(x)\n",
    "    x = x.reshape(-1, 1)\n",
    "    reg.fit(x, y)\n",
    "    return reg.coef_, reg.score(x, y)\n",
    "\n",
    "def calc_similarity(a, b):\n",
    "    # 判断两个整数的各个位上的数字是否相同\n",
    "    a_digits = decompose(a)\n",
    "    b_digits = decompose(b)\n",
    "\n",
    "    all_in_a = True # a中的数字是否都在b中\n",
    "\n",
    "    for d in a_digits:\n",
    "        if d not in b_digits:\n",
    "            all_in_a = False\n",
    "            break\n",
    "\n",
    "    all_in_b = True # b中的数字是否都在a中\n",
    "\n",
    "    for d in b_digits:\n",
    "        if d not in a_digits:\n",
    "            all_in_b = False\n",
    "            break\n",
    "\n",
    "    return all_in_a or all_in_b # Ture表示其中一个整数的各个位上的数字都在另一个整数中\n",
    "    \n",
    "def solve_3_1(data):# 对基本动作序列进行划分，每一段组成一个复杂动作\n",
    "    start = 0\n",
    "    while data[start] == 0:\n",
    "        start += 1 # 找到第一个不为0的位置\n",
    "\n",
    "    end = len(data)\n",
    "    intervals = []\n",
    "    sss = True\n",
    "\n",
    "    while start < end - 1 and sss:\n",
    "        cur = start\n",
    "        flag = True\n",
    "        while flag:\n",
    "            if data[cur] == -1: # 到达基本序列的末尾（-1用作动作序列末尾的占位，也表示坠毁、降落）\n",
    "                sss = False\n",
    "                break\n",
    "\n",
    "            if data[cur + 1] == -1:\n",
    "                sss = False\n",
    "                break\n",
    "\n",
    "            flag = calc_similarity(data[cur], data[cur + 1]) \n",
    "            # Ture代表两个时刻的基本动作未发生突变，即只出现基本动作的增加或减少:123->12，而没有基本动作的改变:12->23\n",
    "            cur += 1 # 切片长度加1直至基本动作发生突变\n",
    "\n",
    "        interval = str(start) + '-' + str(cur - 1)\n",
    "        # print(interval)\n",
    "        intervals.append(interval) # 保存本次划分的动作片段位置\n",
    "        start = cur\n",
    "\n",
    "    return intervals"
   ]
  },
  {
   "cell_type": "markdown",
   "metadata": {},
   "source": [
    "对之前已经得到的基本动作序列划分后进行识别"
   ]
  },
  {
   "cell_type": "code",
   "execution_count": null,
   "metadata": {},
   "outputs": [],
   "source": [
    "flag = 0\n",
    "\n",
    "for ids in list(file.columns.values):\n",
    "    flag += 1\n",
    "    if flag == 1:\n",
    "        continue\n",
    "    data = file[ids].values # 指定飞机的基本动作序列，\n",
    "    # .values将DataFrame转换为ndarray，其中元素类型从object转换为int\n",
    "    intervals = solve_3_1(data) # 将基本动作序列划分为一串子序列，每一段子序列组成一个复杂动作\n",
    "    actions = [] # 保存研究区间内的动作序列\n",
    "\n",
    "    for interval in intervals:\n",
    "        start, end = interval.split('-') # interval的格式为'起始时刻-终止时刻'\n",
    "        start, end = int(start), int(end) # 将起始时刻和终止时刻转换为整数\n",
    "\n",
    "        # 通过判断区间内的基本动作序列，确定区间内的复杂动作\n",
    "        action = decide_action(\n",
    "            yaw=YAW[start:end+1],\n",
    "            roll=ROLL[start:end+1],\n",
    "            pitch=PITCH[start:end+1],\n",
    "            altitude=ALTITUDE[start:end+1],\n",
    "            actions=data[start:end+1])\n",
    "        \n",
    "        for i in range(end - start + 1):\n",
    "            actions.append(action) # 将复杂动作序列添加到动作序列中\n",
    "\n",
    "    df[ids] = '0'\n",
    "    ff = origin[origin.Id == ids]\n",
    "    start_time = ff.iloc[0, 1] - time_min\n",
    "\n",
    "    df.loc[start_time: start_time+len(actions)-1, name] = actions #! -1\n",
    "    df.loc[start_time+len(actions):, name] = -1"
   ]
  },
  {
   "cell_type": "markdown",
   "metadata": {},
   "source": [
    "输出结果"
   ]
  },
  {
   "cell_type": "code",
   "execution_count": 36,
   "metadata": {},
   "outputs": [],
   "source": [
    "tttmp = 'ques3_1_' + name\n",
    "df.to_csv(tttmp)"
   ]
  }
 ],
 "metadata": {
  "kernelspec": {
   "display_name": "base",
   "language": "python",
   "name": "python3"
  },
  "language_info": {
   "codemirror_mode": {
    "name": "ipython",
    "version": 3
   },
   "file_extension": ".py",
   "mimetype": "text/x-python",
   "name": "python",
   "nbconvert_exporter": "python",
   "pygments_lexer": "ipython3",
   "version": "3.11.5"
  }
 },
 "nbformat": 4,
 "nbformat_minor": 2
}
